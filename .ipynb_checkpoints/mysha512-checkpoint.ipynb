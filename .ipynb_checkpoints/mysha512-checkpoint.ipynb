{
 "cells": [
  {
   "cell_type": "markdown",
   "id": "crazy-reasoning",
   "metadata": {},
   "source": [
    "# Hmac Algorithm based on SHA-512 hash algorithm \n",
    "<hr>\n",
    "<h6> coded by: Amir Abbas Bakhshipour </h6>\n",
    "<h6> Std. No.: 9803674 </h6>\n",
    "<h6> Course: Advanced Network Security </h6>\n",
    "<h6> Professor: Dr. Rezayi </h6>\n",
    "<hr>"
   ]
  },
  {
   "cell_type": "code",
   "execution_count": null,
   "id": "detected-ridge",
   "metadata": {},
   "outputs": [],
   "source": []
  }
 ],
 "metadata": {
  "kernelspec": {
   "display_name": "Python 3",
   "language": "python",
   "name": "python3"
  },
  "language_info": {
   "codemirror_mode": {
    "name": "ipython",
    "version": 3
   },
   "file_extension": ".py",
   "mimetype": "text/x-python",
   "name": "python",
   "nbconvert_exporter": "python",
   "pygments_lexer": "ipython3",
   "version": "3.6.9"
  }
 },
 "nbformat": 4,
 "nbformat_minor": 5
}
